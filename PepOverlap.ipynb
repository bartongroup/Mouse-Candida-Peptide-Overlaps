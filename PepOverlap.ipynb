{
 "cells": [
  {
   "cell_type": "markdown",
   "metadata": {},
   "source": [
    "# Candida/M. musculus peptide overlap\n",
    "\n",
    "_PI: Simon Arthur (CSI)_\n",
    "\n",
    "## Background\n",
    "\n",
    "We would like to identify the number of shared peptides (from a trypsin digest) from mouse and candida. The mouse strain we normally use is C57BL/6J.  The Candida strain is SC5314; it seems to be the mouse common strain used and has been sequenced (http://www.candidagenome.org/).\n",
    "\n",
    "## Source data\n",
    "\n",
    "### M. musculus C57BL/6J\n",
    "\n",
    "The mouse genome build mm10 is derived from C57BL/6J (see https://www.ebi.ac.uk/ena/data/view/GCA_000001635) consequently the protein sequences from this will be used to form the mouse peptide database. These were downloaded from Ensembl release 94 (22nd Nov 2018), where the assembly used is GRCm38.p6."
   ]
  },
  {
   "cell_type": "code",
   "execution_count": 1,
   "metadata": {
    "scrolled": true
   },
   "outputs": [
    {
     "name": "stdout",
     "output_type": "stream",
     "text": [
      "bash: cd: data: No such file or directory\n",
      "--2018-11-22 14:52:08--  ftp://ftp.ensembl.org/pub/release-94/fasta/mus_musculus/pep/Mus_musculus.GRCm38.pep.all.fa.gz\n",
      "           => ‘Mus_musculus.GRCm38.pep.all.fa.gz’\n",
      "Resolving ftp.ensembl.org (ftp.ensembl.org)... 193.62.193.8\n",
      "Connecting to ftp.ensembl.org (ftp.ensembl.org)|193.62.193.8|:21... connected.\n",
      "Logging in as anonymous ... Logged in!\n",
      "==> SYST ... done.    ==> PWD ... done.\n",
      "==> TYPE I ... done.  ==> CWD (1) /pub/release-94/fasta/mus_musculus/pep ... done.\n",
      "==> SIZE Mus_musculus.GRCm38.pep.all.fa.gz ... 11605732\n",
      "==> PASV ... done.    ==> RETR Mus_musculus.GRCm38.pep.all.fa.gz ... done.\n",
      "Length: 11605732 (11M) (unauthoritative)\n",
      "\n",
      "Mus_musculus.GRCm38 100%[===================>]  11.07M  2.26MB/s    in 5.2s    \n",
      "\n",
      "2018-11-22 14:52:14 (2.15 MB/s) - ‘Mus_musculus.GRCm38.pep.all.fa.gz’ saved [11605732]\n",
      "\n",
      "Mus_musculus.GRCm38.pep.all.fa.gz:\t   75.7% -- replaced with Mus_musculus.GRCm38.pep.all.fa\n"
     ]
    }
   ],
   "source": [
    "cd data\n",
    "wget ftp://ftp.ensembl.org/pub/release-94/fasta/mus_musculus/pep/Mus_musculus.GRCm38.pep.all.fa.gz\n",
    "gunzip -v Mus_musculus.GRCm38.pep.all.fa.gz"
   ]
  },
  {
   "cell_type": "markdown",
   "metadata": {},
   "source": [
    "### Candida albicans SC5314\n",
    "\n",
    "C. albicans SC5314 has also been sequenced and is available from Ensembl Genomes Relase 41 (22nd Nov 2018), which uses the Cand_albi_SC5314_V4 assembly. "
   ]
  },
  {
   "cell_type": "code",
   "execution_count": 2,
   "metadata": {},
   "outputs": [
    {
     "name": "stdout",
     "output_type": "stream",
     "text": [
      "--2018-11-22 14:52:14--  ftp://ftp.ensemblgenomes.org/pub/fungi/release-41/fasta/fungi_ascomycota2_collection/candida_albicans_sc5314_gca_000784635/pep/Candida_albicans_sc5314_gca_000784635.Cand_albi_SC5314_V4.pep.all.fa.gz\n",
      "           => ‘Candida_albicans_sc5314_gca_000784635.Cand_albi_SC5314_V4.pep.all.fa.gz’\n",
      "Resolving ftp.ensemblgenomes.org (ftp.ensemblgenomes.org)... 193.62.197.94\n",
      "Connecting to ftp.ensemblgenomes.org (ftp.ensemblgenomes.org)|193.62.197.94|:21... connected.\n",
      "Logging in as anonymous ... Logged in!\n",
      "==> SYST ... done.    ==> PWD ... done.\n",
      "==> TYPE I ... done.  ==> CWD (1) /pub/fungi/release-41/fasta/fungi_ascomycota2_collection/candida_albicans_sc5314_gca_000784635/pep ... done.\n",
      "==> SIZE Candida_albicans_sc5314_gca_000784635.Cand_albi_SC5314_V4.pep.all.fa.gz ... 2077375\n",
      "==> PASV ... done.    ==> RETR Candida_albicans_sc5314_gca_000784635.Cand_albi_SC5314_V4.pep.all.fa.gz ... done.\n",
      "Length: 2077375 (2.0M) (unauthoritative)\n",
      "\n",
      "Candida_albicans_sc 100%[===================>]   1.98M  2.93MB/s    in 0.7s    \n",
      "\n",
      "2018-11-22 14:52:15 (2.93 MB/s) - ‘Candida_albicans_sc5314_gca_000784635.Cand_albi_SC5314_V4.pep.all.fa.gz’ saved [2077375]\n",
      "\n",
      "Candida_albicans_sc5314_gca_000784635.Cand_albi_SC5314_V4.pep.all.fa.gz:\t   53.2% -- replaced with Candida_albicans_sc5314_gca_000784635.Cand_albi_SC5314_V4.pep.all.fa\n"
     ]
    }
   ],
   "source": [
    "wget ftp://ftp.ensemblgenomes.org/pub/fungi/release-41/fasta/fungi_ascomycota2_collection/candida_albicans_sc5314_gca_000784635/pep/Candida_albicans_sc5314_gca_000784635.Cand_albi_SC5314_V4.pep.all.fa.gz\n",
    "gunzip -v Candida_albicans_sc5314_gca_000784635.Cand_albi_SC5314_V4.pep.all.fa.gz"
   ]
  },
  {
   "cell_type": "markdown",
   "metadata": {},
   "source": [
    "## Trypsin digests\n",
    "\n",
    "The EMBOSS 6.6.0.0 pepdigest tool can carry out _in-silico_ trypsin digests. Trypsin digests are selected using the option '-menu 1', while it also requireed to select wether to use monoisotonic weights with the '-mono' option. By default, pepdigest does not cut proteins at unfavoured sites ('KR' followed by any of 'KRIFLP'). "
   ]
  },
  {
   "cell_type": "code",
   "execution_count": 3,
   "metadata": {},
   "outputs": [
    {
     "name": "stdout",
     "output_type": "stream",
     "text": [
      "Report on protein proteolytic enzyme or reagent cleavage sites\n",
      "Report on protein proteolytic enzyme or reagent cleavage sites\n"
     ]
    }
   ],
   "source": [
    "pepdigest -seqall Mus_musculus.GRCm38.pep.all.fa -menu 1 -mono N -outfile Mus_musculus.pepdigest\n",
    "pepdigest -seqall Candida_albicans_sc5314_gca_000784635.Cand_albi_SC5314_V4.pep.all.fa -menu 1 -mono N -outfile Candida_albicans.pepdigest"
   ]
  },
  {
   "cell_type": "markdown",
   "metadata": {},
   "source": [
    "Pepdigest output contains a separate output section for each input protein, from which the separate peptides need to be parsed. In this case these can be written to separate fasta files."
   ]
  },
  {
   "cell_type": "code",
   "execution_count": 2,
   "metadata": {},
   "outputs": [
    {
     "ename": "FileNotFoundError",
     "evalue": "[Errno 2] No such file or directory: 'data/Candida_albicans.pepdigest'",
     "output_type": "error",
     "traceback": [
      "\u001b[0;31m---------------------------------------------------------------------------\u001b[0m",
      "\u001b[0;31mFileNotFoundError\u001b[0m                         Traceback (most recent call last)",
      "\u001b[0;32m<ipython-input-2-c5e344751014>\u001b[0m in \u001b[0;36m<module>\u001b[0;34m\u001b[0m\n\u001b[1;32m     45\u001b[0m \u001b[0;34m\u001b[0m\u001b[0m\n\u001b[1;32m     46\u001b[0m \u001b[0;32mfor\u001b[0m \u001b[0mbeast\u001b[0m \u001b[0;32min\u001b[0m \u001b[0morganisms\u001b[0m\u001b[0;34m:\u001b[0m\u001b[0;34m\u001b[0m\u001b[0;34m\u001b[0m\u001b[0m\n\u001b[0;32m---> 47\u001b[0;31m     \u001b[0mdf\u001b[0m\u001b[0;34m=\u001b[0m\u001b[0mparse_pepdigest\u001b[0m\u001b[0;34m(\u001b[0m\u001b[0;34m'data/%s.pepdigest'\u001b[0m \u001b[0;34m%\u001b[0m \u001b[0mbeast\u001b[0m\u001b[0;34m)\u001b[0m\u001b[0;34m\u001b[0m\u001b[0;34m\u001b[0m\u001b[0m\n\u001b[0m\u001b[1;32m     48\u001b[0m     \u001b[0mdisplay\u001b[0m\u001b[0;34m(\u001b[0m\u001b[0mdf\u001b[0m\u001b[0;34m)\u001b[0m\u001b[0;34m\u001b[0m\u001b[0;34m\u001b[0m\u001b[0m\n",
      "\u001b[0;32m<ipython-input-2-c5e344751014>\u001b[0m in \u001b[0;36mparse_pepdigest\u001b[0;34m(digestfile)\u001b[0m\n\u001b[1;32m     11\u001b[0m     \u001b[0mpeptide_re\u001b[0m \u001b[0;34m=\u001b[0m \u001b[0mre\u001b[0m\u001b[0;34m.\u001b[0m\u001b[0mcompile\u001b[0m\u001b[0;34m(\u001b[0m\u001b[0;34m'([\\s]+[\\d\\.]+){3}[\\s]+([A-Z\\.][\\s]+){2}([A-Z]+)'\u001b[0m\u001b[0;34m)\u001b[0m\u001b[0;34m\u001b[0m\u001b[0;34m\u001b[0m\u001b[0m\n\u001b[1;32m     12\u001b[0m \u001b[0;34m\u001b[0m\u001b[0m\n\u001b[0;32m---> 13\u001b[0;31m     \u001b[0mfile\u001b[0m \u001b[0;34m=\u001b[0m \u001b[0mopen\u001b[0m\u001b[0;34m(\u001b[0m\u001b[0mdigestfile\u001b[0m\u001b[0;34m,\u001b[0m \u001b[0;34m'r'\u001b[0m\u001b[0;34m)\u001b[0m\u001b[0;34m\u001b[0m\u001b[0;34m\u001b[0m\u001b[0m\n\u001b[0m\u001b[1;32m     14\u001b[0m     \u001b[0mprot_id\u001b[0m\u001b[0;34m=\u001b[0m\u001b[0;32mNone\u001b[0m\u001b[0;34m\u001b[0m\u001b[0;34m\u001b[0m\u001b[0m\n\u001b[1;32m     15\u001b[0m     \u001b[0mpep_count\u001b[0m\u001b[0;34m=\u001b[0m\u001b[0;36m0\u001b[0m\u001b[0;34m\u001b[0m\u001b[0;34m\u001b[0m\u001b[0m\n",
      "\u001b[0;31mFileNotFoundError\u001b[0m: [Errno 2] No such file or directory: 'data/Candida_albicans.pepdigest'"
     ]
    }
   ],
   "source": [
    "#!/usr/bin/env python\n",
    "\n",
    "import os\n",
    "import re\n",
    "import hashlib\n",
    "import pandas as pd\n",
    "\n",
    "def parse_pepdigest(digestfile): \n",
    "    \n",
    "    new_seq_re = re.compile('# Sequence: ([\\S]+)')\n",
    "    peptide_re = re.compile('([\\s]+[\\d\\.]+){3}[\\s]+([A-Z\\.][\\s]+){2}([A-Z]+)')\n",
    "    \n",
    "    file = open(digestfile, 'r')\n",
    "    prot_id=None\n",
    "    pep_count=0\n",
    "    peptides=[]\n",
    "    \n",
    "    for line in file:\n",
    "        \n",
    "        match = new_seq_re.match(line)\n",
    "        if match:\n",
    "            prot_id=match.group(1)\n",
    "            pep_count=0\n",
    "            \n",
    "        match = peptide_re.match(line)\n",
    "        if match:\n",
    "            pep_count=pep_count+1\n",
    "            peptide=match.group(3).encode('utf-8')\n",
    "            md5sum=hashlib.md5(peptide).hexdigest()\n",
    "            pep_data={\n",
    "                'protein_id': prot_id,\n",
    "                'count': pep_count,\n",
    "                'peptide': peptide.decode('utf-8'),\n",
    "                'md5sum': md5sum\n",
    "            }\n",
    "            peptides.append(pep_data)\n",
    "        \n",
    "    columns=['protein_id','count','peptide','md5sum']\n",
    "    df = pd.DataFrame(peptides,columns=columns)\n",
    "        \n",
    "    return df\n",
    "\n",
    "\n",
    "organisms=['Candida_albicans','Mus_musculus']\n",
    "\n",
    "for beast in organisms:\n",
    "    df=parse_pepdigest('data/%s.pepdigest' % beast)\n",
    "    display(df)"
   ]
  },
  {
   "cell_type": "code",
   "execution_count": null,
   "metadata": {},
   "outputs": [],
   "source": []
  }
 ],
 "metadata": {
  "kernelspec": {
   "display_name": "Python 3",
   "language": "python",
   "name": "python3"
  },
  "language_info": {
   "codemirror_mode": {
    "name": "ipython",
    "version": 3
   },
   "file_extension": ".py",
   "mimetype": "text/x-python",
   "name": "python",
   "nbconvert_exporter": "python",
   "pygments_lexer": "ipython3",
   "version": "3.7.1"
  }
 },
 "nbformat": 4,
 "nbformat_minor": 2
}
