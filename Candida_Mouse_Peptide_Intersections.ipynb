{
 "cells": [
  {
   "cell_type": "markdown",
   "metadata": {},
   "source": [
    "# Identification of shared peptides between M.musculus and C.alibcans proteomes\n",
    "\n",
    "This notebook identifies tryptic peptides which are common between Mus musculus C57BL/6J and Candida albicans SC5314.\n",
    "\n",
    "See the [README.md](https://github.com/bartongroup/Mouse-Candida-Peptide-Overlaps) file for full instructions on setting up and running these notebooks.\n",
    "\n",
    "Running all the cells in the notebook will repeat the analysis. Outputs will be produced in a `data` subdirectory.\n",
    "\n",
    "Note that much of the code is contained within the imported `PepOverlap.py` module\n",
    "\n",
    "# Library Imports"
   ]
  },
  {
   "cell_type": "code",
   "execution_count": null,
   "metadata": {
    "tags": []
   },
   "outputs": [],
   "source": [
    "import os\n",
    "import pandas as pd\n",
    "import holoviews as hv\n",
    "import matplotlib.pyplot as plt\n",
    "import dill as pickle\n",
    "from PepOverlap import *\n",
    "\n",
    "from copy import deepcopy\n",
    "from glob import glob\n",
    "from Bio import SeqIO\n",
    "from Bio.SeqRecord import SeqRecord\n",
    "from Bio.Seq import Seq\n",
    "from IPython.display import display, Markdown\n",
    "from matplotlib_venn import venn2\n",
    "from yaspin import yaspin\n",
    "\n",
    "hv.extension('bokeh')"
   ]
  },
  {
   "cell_type": "markdown",
   "metadata": {
    "tags": []
   },
   "source": [
    "## Source data\n",
    "\n",
    "### Mouse C57BL/J6\n",
    "\n",
    "The MM10 mouse genome assembly is derived from C57BL/J6, so is ideal for this exercise. The proteins including all isoforms were downloaded from UniProt 2023_01, utilising the same URL as used to download the database for MS analysis.\n",
    "\n",
    "### Candida albicans SC5314\n",
    "\n",
    "Candida albicans SC5314 has been sequenced, and has the NCBI taxonomy identifier 237561. These proteins are similarly downloaded from UniProt 2023_01.\n",
    "\n",
    "### Trypsin digests\n",
    "\n",
    "Various tools are available for carrying out _in-silico_ trypsin digests. For the purposes of this exercise, a basic trypsin digest is adequeate. The EMBOSS 6.6.0.0 pepdigest tool can carry out trypsin digests, and by default does not cut proteins at unfavoured sites ('KR' followed by any of 'KRIFLP'). Trypsin digests are selected using the option '-menu 1', while it is also necessary to select whether to use monoisotopic weights or not for determination of peptide weights, but these aren't of relevance here. \n",
    "\n",
    "The following code cell will download the data, run pepdigest on the resulting fasta files and parse the results into Pandas dataframes, which are stored within a 'PepOverlap' object. Summary statistics of these are then produced and stored in the same object. The resulting output files will be retained in the `data` directory"
   ]
  },
  {
   "cell_type": "code",
   "execution_count": null,
   "metadata": {
    "tags": []
   },
   "outputs": [],
   "source": [
    "os.makedirs('data',exist_ok=True)\n",
    "\n",
    "pep_data=PepOverlap()\n",
    "\n",
    "beasts={\n",
    "\t'mouse':   \"https://rest.uniprot.org/uniprotkb/stream?download=true&format=fasta&includeIsoform=true&query=(reviewed%3Atrue)%20AND%20(model_organism%3A10090)\",\n",
    "\t'candida': \"https://rest.uniprot.org/uniprotkb/stream?format=fasta&includeIsoform=true&query=%28%28taxonomy_id%3A237561%29%29\"\n",
    "}\n",
    "\n",
    "for beast in beasts.keys():\n",
    "\tdownload(beasts[beast],beast)\n",
    "\tpepdigest(beast)\n",
    "\n",
    "with yaspin(text=\"Processing results...\"):\n",
    "\tpep_data.total_dfs['mouse'] = parse_pepdigest('mouse')\n",
    "\tpep_data.total_dfs['candida']= parse_pepdigest('candida')\n",
    "\n",
    "\tpep_data=summarise_proteome('mouse', pep_data)\n",
    "\tpep_data=summarise_proteome('candida', pep_data)\n"
   ]
  },
  {
   "cell_type": "markdown",
   "metadata": {
    "hideCode": false
   },
   "source": [
    "## Results\n",
    "\n",
    "The total number of proteins and peptides represented, and also the proportion of proteins and peptides which are unique _within_ that organism are indicated in the table below the following cell. The unique proteins and peptides from each organism are then combined, and the unique numbers within this set also identified (labeled 'Combined unique peptides' in the table). This represents the set of peptides which are potentially identifiable by MS which can be attributed to a specific protein within a specific organism. The 'Unique proteins' and 'Unique peptides' values in this row indicate the proteins and peptides which are unique in the context of both organisms. "
   ]
  },
  {
   "cell_type": "code",
   "execution_count": null,
   "metadata": {
    "hideCode": true,
    "hidePrompt": true,
    "tags": []
   },
   "outputs": [],
   "source": [
    "# Combined values from both genomes\n",
    "merged_df=pd.concat(pep_data.unique_dfs)\n",
    "\n",
    "merged_prots=merged_df['protein_id'].unique().tolist()\n",
    "unique_merged_df=merged_df.drop_duplicates('peptide',keep=False)\n",
    "unique_merged_prots=unique_merged_df['protein_id'].unique().tolist()\n",
    "\n",
    "merged_data={\n",
    "\t'Category': 'Combined unique peptides',\n",
    "\t'Peptide count': len(merged_df.index),\n",
    "\t'Protein count': len(merged_prots),\n",
    "\t'Unique peptides': len(unique_merged_df.index),\n",
    "\t'Unique proteins': len(unique_merged_prots)\n",
    "}\n",
    "pep_data.summary_data.append(merged_data)\n",
    "\n",
    "# Intersections between values for both genomes\n",
    "duplicate_df=merged_df[merged_df.duplicated('peptide',keep=False)]\n",
    "common_prots=duplicate_df['protein_id'].unique().tolist()\n",
    "\n",
    "summary_columns=['Category','Protein count','Peptide count','Unique proteins', 'Unique peptides']\n",
    "summary_df=pd.DataFrame(pep_data.summary_data,columns=summary_columns)\n",
    "\n",
    "pep_data.duplicate_df=duplicate_df\n",
    "with open('data/pep_data.pkl','wb') as fh:\n",
    "\tpickle.dump(pep_data,fh)\n",
    "\n",
    "hv.Table(summary_df).opts(width=1000,title='Table 1: Summary of protein and peptide counts',fontsize={'title':12})"
   ]
  },
  {
   "cell_type": "markdown",
   "metadata": {
    "hidePrompt": true
   },
   "source": [
    "The intersections of various sets of peptides are shown in figure 1. The subset of *Candida albicans* and *Mus musculus* peptides which are unique within each organism are indicated in plots (a) and (b). These represent the number of peptides within each organism whose source can bot be categorically identified within an MS experiment involving that organism alone. The intersection between the full set of peptides from both organisms is indicated in (c), while (d) illustrates the number of peptides within the unique set of peptides from each organism. "
   ]
  },
  {
   "cell_type": "code",
   "execution_count": null,
   "metadata": {
    "hideCode": true,
    "hidePrompt": true,
    "tags": []
   },
   "outputs": [],
   "source": [
    "plt.figure(figsize=(20, 15))\n",
    "plt.subplot(221)\n",
    "plt.title('(a) Candida albicans peptides',fontsize=20)\n",
    "\n",
    "ca_pep=venn2(\n",
    "\t\t[set(pep_data.peplists_total['candida']),\n",
    "\t\t set(pep_data.peplists_unique['candida'])],\n",
    "\t\tset_labels=(f\"All peptides\\n({len(pep_data.peplists_total['candida'])})\", \n",
    "\t\t\t\t\tf\"Unique peptides\\n({len(pep_data.peplists_unique['candida'])})\")\n",
    "\t)\n",
    "ca_pep=format_venn(ca_pep)\n",
    "\t\n",
    "plt.subplot(222)\n",
    "plt.title('(b) Mus musculus',fontsize=20)\n",
    "mm_pep=venn2(\n",
    "\t\t[set(pep_data.peplists_total['mouse']),\n",
    "\t\t set(pep_data.peplists_unique['mouse'] )],\n",
    "\t\tset_labels=(f\"All peptides\\n({len(pep_data.peplists_total['mouse'])})\",\n",
    "\t\t\t\t\tf\"Unique peptides\\n({len(pep_data.peplists_unique['mouse'])})\")\n",
    "\t)\n",
    "mm_pep=format_venn(mm_pep)\n",
    "\t\n",
    "plt.subplot(223)\n",
    "plt.title('(c) Total peptides',fontsize=20)\n",
    "total=venn2(\n",
    "\t\t[set(pep_data.peplists_total['candida']),\n",
    "\t\t set(pep_data.peplists_total['mouse'])],\n",
    "\t\tset_labels=(f\"Candida albicans\\n({len(pep_data.peplists_total['candida'])})\",\n",
    "\t\t\t\t\tf\"Mus musculus\\n({len(pep_data.peplists_total['mouse'])})\")\n",
    "\t)\n",
    "total=format_venn(total)\n",
    "\n",
    "plt.subplot(224)\n",
    "plt.title('(d) Unique peptides',fontsize=20)\n",
    "unique=venn2(\n",
    "\t\t[set(pep_data.peplists_unique['candida']),\n",
    "\t\t set(pep_data.peplists_unique['mouse'])],\n",
    "\t\tset_labels=(f\"Candida albicans\\n({len(pep_data.peplists_unique['candida'])})\",\n",
    "\t\t\t\t\tf\"Mus musculus\\n({len(pep_data.peplists_unique['mouse'])})\")\n",
    "\t)\n",
    "unique=format_venn(unique)\n",
    "\n",
    "# captures lists of protein IDs from each species\n",
    "mouse_prot_ids=list(set(pep_data.total_dfs['mouse']['protein_id'].tolist()))\n",
    "candida_prot_ids=list(set(pep_data.total_dfs['candida']['protein_id'].tolist()))\n",
    "\n",
    "duplicate_df=merged_df[merged_df.duplicated('peptide',keep=False)]\n",
    "common_prots=duplicate_df['protein_id'].unique().tolist()\n",
    "\n",
    "plt.show()"
   ]
  },
  {
   "cell_type": "markdown",
   "metadata": {},
   "source": [
    "*Figure 1 - Intersections of various peptide sets. (a) Unique peptides within total set of Candida albicans peptides (b) Unique peptides within the total set of Mus musculus peptides (c) Total peptides of Candida albicans and Mus musculus (d) Unique peptides from Candida albicans and Mus musculus.*\n",
    "\n",
    "Note there is a discrepancy between the total number of peptides and the sum of the unique and non-unique peptides sets in each organism. This is a result of non-unique peptides which are represented more than twice, which is particularly common for very short peptides. "
   ]
  },
  {
   "cell_type": "markdown",
   "metadata": {},
   "source": [
    "## Shared Peptide Identification\n",
    "\n",
    "Peptides which are shared between the two organisms are next isolated, and then proteins which share multiple peptides identified. This will inform on whether there are any proteins which are unlikely to be discriminated between due to containing insufficient unique peptides.\n",
    "\n",
    "The summary table below is written to the `data` directory as a tab-delimited file: `shared_peptide_proportions.txt`. This lists all proteins which share more than 2 peptides across species, and the maximum number of "
   ]
  },
  {
   "cell_type": "code",
   "execution_count": null,
   "metadata": {
    "hideCode": true,
    "hideOutput": true,
    "hidePrompt": true,
    "tags": []
   },
   "outputs": [],
   "source": [
    "with yaspin(text='Analysing shared peptides...'):\n",
    "\t\n",
    "\t# Identify peptides shared between organisms i.e. peptides which are duplicated in the\n",
    "\t# dataframe of peptides merged from both species\n",
    "\tduplicate_df=merged_df[merged_df.duplicated('peptide',keep=False)]\n",
    "\n",
    "\t# Which proteins to these originate from?\n",
    "\tcommon_prots=duplicate_df['protein_id'].unique().tolist()\n",
    "\n",
    "\t# Which of these proteins contain multiple shared peptides?\n",
    "\t# i.e. where a protein ID is duplicated in the dataframe of duplicated peptides...\n",
    "\tmulti_pep_common_prots=duplicate_df[duplicate_df.duplicated('protein_id',keep=False)]\n",
    "\tmulti_pep_common_prot_ids=set(multi_pep_common_prots['protein_id'])\n",
    "\n",
    "\tshared_counts=[]\n",
    "\n",
    "\tfor prot_id in multi_pep_common_prot_ids:\n",
    "\t\tcommon_peps=multi_pep_common_prots[multi_pep_common_prots['protein_id']==prot_id]\n",
    "\t\ttotal_peps=merged_df[merged_df['protein_id']==prot_id]\n",
    "\t\t\t\t\n",
    "\t\tshared_proportion=(float(len(common_peps.index))/float(len(total_peps.index))*100)\n",
    "\t\t\n",
    "\t\tif prot_id in mouse_prot_ids:\n",
    "\t\t\tspecies='Mouse'\n",
    "\t\telif prot_id in candida_prot_ids:\n",
    "\t\t\tspecies='Candida'\n",
    "\t\telse:\n",
    "\t\t\traise Exception('Protein ID not found')\n",
    "\t\t\t\n",
    "\t\tdat={\n",
    "\t\t\t'Protein ID':prot_id,\n",
    "\t\t\t'Species': species,\n",
    "\t\t\t'Shared peptides': len(common_peps.index),\n",
    "\t\t\t'Total peptides': len(total_peps.index),\n",
    "\t\t\t'Percentage shared': f'{shared_proportion:.2f}'\n",
    "\t\t}\n",
    "\t\tshared_counts.append(dat)\n",
    "\n",
    "\tcolumns=['Protein ID','Species', 'Shared peptides','Total peptides','Percentage shared']\n",
    "\tshared_count_df = pd.DataFrame(shared_counts,columns=columns)\n",
    "\tshared_count_df.to_csv('data/shared_peptide_proportions.txt',sep=\"\\t\",index=False)\n",
    "\t\n",
    "hv.Table(shared_count_df,label='Proteins containing peptides shared between species').opts(width=800,show_title=True)"
   ]
  },
  {
   "attachments": {},
   "cell_type": "markdown",
   "metadata": {},
   "source": [
    "### Output Sequences\n",
    "\n",
    "Protein sequences which are affected by shared peptides are written into the `data/mouse_intersection_proteins.fa` and `data/candida_intersection_proteins.fa` fasta files."
   ]
  },
  {
   "cell_type": "code",
   "execution_count": null,
   "metadata": {
    "hideCode": true,
    "hideOutput": true,
    "hidePrompt": true
   },
   "outputs": [],
   "source": [
    "# Save proteins with common peptides as fasta file\n",
    "mouse_prots = SeqIO.to_dict(SeqIO.parse(\"data/mouse.fa\", \"fasta\"))\n",
    "candida_prots = SeqIO.to_dict(SeqIO.parse(\"data/candida.fa\", \"fasta\"))\n",
    "\n",
    "mouse_prot_records=[]\n",
    "candida_prot_records=[]\n",
    "\n",
    "for prot in common_prots:\n",
    "\tif prot in mouse_prots:\n",
    "\t\trecord=mouse_prots[prot]\n",
    "\t\tmouse_prot_records.append(record)\n",
    "\telse:\n",
    "\t\trecord=candida_prots[prot]\n",
    "\t\tcandida_prot_records.append(record)\n",
    "\n",
    "SeqIO.write(mouse_prot_records, \"data/mouse_intersection_proteins.fa\", \"fasta\")\n",
    "SeqIO.write(candida_prot_records, \"data/candida_intersection_proteins.fa\", \"fasta\")"
   ]
  },
  {
   "attachments": {},
   "cell_type": "markdown",
   "metadata": {},
   "source": [
    "Additionally, a fasta file `data/shared_peptides.fa` containing the shared peptides which are not going to be discriminatory in MS analysis is created."
   ]
  },
  {
   "cell_type": "code",
   "execution_count": null,
   "metadata": {},
   "outputs": [],
   "source": [
    "shared_peptides=list(duplicate_df['peptide'].unique())\n",
    "\n",
    "count=0\n",
    "output_records=list()\n",
    "for peptide in shared_peptides:\n",
    "\tcount+=1\n",
    "\trecord=SeqRecord(seq=Seq(peptide),id=f'{count:05d}',description='')\n",
    "\toutput_records.append(record)\n",
    "\n",
    "with open('data/shared_peptides.fa', 'w') as fh:\n",
    "\tSeqIO.write(output_records,fh,'fasta')\n"
   ]
  },
  {
   "attachments": {},
   "cell_type": "markdown",
   "metadata": {},
   "source": [
    "Finally, some summary tables of affected proteins..."
   ]
  },
  {
   "cell_type": "code",
   "execution_count": null,
   "metadata": {
    "hideCode": true,
    "hideOutput": true,
    "hidePrompt": true
   },
   "outputs": [],
   "source": [
    "# Output summary tables of affected proteins\n",
    "mouse_prot_info=get_prot_info(mouse_prot_records)\n",
    "hv.Table(mouse_prot_info,label='Mouse proteins containing shared peptides').opts(width=1000)"
   ]
  },
  {
   "cell_type": "code",
   "execution_count": null,
   "metadata": {
    "hideCode": true,
    "hideOutput": true,
    "hidePrompt": true
   },
   "outputs": [],
   "source": [
    "candida_prot_info=get_prot_info(candida_prot_records)\n",
    "hv.Table(candida_prot_info,label='Candida proteins containing shared peptides').opts(width=1000)"
   ]
  },
  {
   "cell_type": "markdown",
   "metadata": {},
   "source": [
    "## Summary"
   ]
  },
  {
   "cell_type": "code",
   "execution_count": null,
   "metadata": {},
   "outputs": [],
   "source": [
    "display(Markdown(f'The overlap in peptides between Candida and mouse would result in certain peptides from {len(candida_prot_info)} Candida proteins and {len(mouse_prot_info)} proteins being unable to be assigned unambiguously to a specific protein in either organism.'))"
   ]
  },
  {
   "attachments": {},
   "cell_type": "markdown",
   "metadata": {},
   "source": [
    "This does not, however, mean that these proteins would not be able to be discriminated between by other peptides they contain, since in the vast majority of cases the proportion of unique peptides available within each organism is considerable. Only one short protein (containing only 3 peptides) protein was found to have >50% of it's peptides present in both organisms, so while individual peptides may be common between the organisms, there are plenty of peptides which are not shared which would allow proteins from the difference organisms to be identified\n",
    "\n",
    "Considerably more peptides are non-unique *within* each organism than *between* the two organisms, and consequently would not allow discrimination between different proteins within each organism, than there are in the intersection between the organisms. Mouse, in particular, is notable for the proportion of non-unique peptides represented in the proteome. The originating organism and protein for the vast majority of peptides identified through MS proteomics experiments should therefore be able to be unambiguously identified."
   ]
  }
 ],
 "metadata": {
  "celltoolbar": "Hide code",
  "kernelspec": {
   "display_name": "Python [conda env:PepOverlap] *",
   "language": "python",
   "name": "conda-env-PepOverlap-py"
  },
  "language_info": {
   "codemirror_mode": {
    "name": "ipython",
    "version": 3
   },
   "file_extension": ".py",
   "mimetype": "text/x-python",
   "name": "python",
   "nbconvert_exporter": "python",
   "pygments_lexer": "ipython3",
   "version": "3.11.0"
  }
 },
 "nbformat": 4,
 "nbformat_minor": 4
}
