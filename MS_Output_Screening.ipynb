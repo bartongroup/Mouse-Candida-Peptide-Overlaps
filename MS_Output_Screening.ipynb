{
 "cells": [
  {
   "attachments": {},
   "cell_type": "markdown",
   "metadata": {},
   "source": [
    "## Spectronaught Output Screening\n",
    "\n",
    "Since we now know which peptides are problematic we can use these to check Spectronaught analysis runs to identify any identifications which may be incorrect...\n",
    "\n",
    "This notebook will find any '.xls' tab-delimited files produced by Spectronaut which need to be placed in the 'Spectronaut_results' directory\n",
    "\n",
    "## Library Imports"
   ]
  },
  {
   "cell_type": "code",
   "execution_count": 1,
   "metadata": {},
   "outputs": [],
   "source": [
    "import os\n",
    "import pandas as pd\n",
    "import dill as pickle\n",
    "from PepOverlap import *\n",
    "\n",
    "from Bio import SeqIO\n",
    "from glob import glob\n",
    "from yaspin import yaspin"
   ]
  },
  {
   "cell_type": "code",
   "execution_count": 2,
   "metadata": {},
   "outputs": [
    {
     "name": "stdout",
     "output_type": "stream",
     "text": [
      "                                                                               \r"
     ]
    }
   ],
   "source": [
    "shared_peptides=SeqIO.to_dict(SeqIO.parse('data/shared_peptides.fa',format='fasta'))\n",
    "shared_peptides=list(map(lambda x: x.seq, shared_peptides.values()))\n",
    "\n",
    "with open('data/pep_data.pkl','rb') as fh:\n",
    "\tpep_info=pickle.load(fh)\n",
    "\n",
    "mouse_prot_info=parse_fasta_desc('data/mouse.fa')\n",
    "candida_prot_info=parse_fasta_desc('data/candida.fa')\n",
    "\n",
    "for result in glob('Spectronaut_results/*/*.xls'):\n",
    "\tfile=os.path.basename(result).replace('.xls','')\n",
    "\tdf=pd.read_csv(result, sep=\"\\t\")\n",
    "\n",
    "\twith yaspin(text=f'Processing {file}...'):\n",
    "\t\tconflicts=list()\n",
    "\t\tfor index,peprow in df.iterrows():\n",
    "\t\t\tpeptide=clean_peptide(peprow['EG.PrecursorId'])\n",
    "\t\t\t\n",
    "\t\t\tif peptide in shared_peptides:\n",
    "\t\t\t\tpeprow['clean_peptide']=peptide\n",
    "\t\t\t\tconflicts.append(peprow.to_dict())\n",
    "\n",
    "\t\tconflicts_df=pd.DataFrame(conflicts)\n",
    "\t\tconflicts_df.to_csv(f'spectronaut_results/{file}_pepconflicts.txt',sep=\"\\t\",index=False)\n",
    "\t\tconflicts_df=conflicts_df.drop_duplicates(subset='clean_peptide',keep='first')\n",
    "\n",
    "\t\t# add additional sequence metadata....\n",
    "\t\tconflict_summary_df=pd.DataFrame(conflicts_df['clean_peptide'])\n",
    "\t\tconflict_summary_df=conflict_summary_df.rename(columns={'clean_peptide':'peptide'})\n",
    "\t\tconflict_summary_df=conflict_summary_df.merge(pep_info.duplicate_df,on='peptide')\n",
    "\t\tgrouped=conflict_summary_df.groupby('peptide')\n",
    "\n",
    "\t\tunique_peptides=list()\n",
    "\t\tmouse_df=pep_info.total_dfs['mouse']\n",
    "\t\tcandida_df=pep_info.total_dfs['candida']\n",
    "\n",
    "\t\tfor name, group in grouped:\n",
    "\t\t\tmouse_prot=group[group['organism']=='mouse']['protein_id'].values[0]\n",
    "\t\t\tcandida_prot=group[group['organism']=='candida']['protein_id'].values[0]\n",
    "\t\t\tmouse_total_peptides=mouse_df[mouse_df['protein_id']==mouse_prot].count()['protein_id']\n",
    "\t\t\tcandida_total_peptides=candida_df[candida_df['protein_id']==candida_prot].count()['protein_id']\n",
    "\t\t\t\n",
    "\t\t\tgroup_vals={\n",
    "\t\t\t\t'peptide': group['peptide'].values[0],\n",
    "\t\t\t\t'mouse_prot': mouse_prot,\n",
    "\t\t\t\t'mouse_gene': mouse_prot_info[mouse_prot_info['prot_id']==mouse_prot]['gene'].values[0],\n",
    "\t\t\t\t'mouse_total_peptides': mouse_total_peptides,\n",
    "\t\t\t\t'candida_prot': candida_prot,\n",
    "\t\t\t\t'candida_gene': candida_prot_info[candida_prot_info['prot_id']==candida_prot]['gene'].values[0],\n",
    "\t\t\t\t'candida_total_peptides': candida_total_peptides\n",
    "\t\t\t}\n",
    "\n",
    "\t\t\tunique_peptides.append(group_vals)\n",
    "\n",
    "\t\tunique_peptides_df=pd.DataFrame.from_dict(unique_peptides)\n",
    "\t\tunique_peptides_df.to_csv(f'spectronaut_results/{file}_summary.txt',sep=\"\\t\",index=False)"
   ]
  }
 ],
 "metadata": {
  "kernelspec": {
   "display_name": "Python [conda env:PepOverlap] *",
   "language": "python",
   "name": "conda-env-PepOverlap-py"
  },
  "language_info": {
   "codemirror_mode": {
    "name": "ipython",
    "version": 3
   },
   "file_extension": ".py",
   "mimetype": "text/x-python",
   "name": "python",
   "nbconvert_exporter": "python",
   "pygments_lexer": "ipython3",
   "version": "3.11.0"
  },
  "orig_nbformat": 4
 },
 "nbformat": 4,
 "nbformat_minor": 2
}
