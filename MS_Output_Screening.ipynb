{
 "cells": [
  {
   "attachments": {},
   "cell_type": "markdown",
   "metadata": {},
   "source": [
    "## Spectronaught Output Screening\n",
    "\n",
    "See the [README.md](https://github.com/bartongroup/Mouse-Candida-Peptide-Overlaps) file for full instructions on setting up and running these notebooks.\n",
    "\n",
    "**N.B. The 'Candida_Mouse_Peptide_Intersections.ipynb' notebook must be run prior to this one**\n",
    "\n",
    "This notebook will find any '.xls' tab-delimited files produced by Spectronaut which need to be uploaded into the 'Spectronaut_results' directory. Running the notebook will identify peptides from a dual Mouse/Candida MS proteomics analysis which can not be discriminated between due to shared peptides between the proteomes of the two organisms.\n",
    "\n",
    "## Library Imports"
   ]
  },
  {
   "cell_type": "code",
   "execution_count": null,
   "metadata": {},
   "outputs": [],
   "source": [
    "import os\n",
    "import sys\n",
    "import pandas as pd\n",
    "import dill as pickle\n",
    "from PepOverlap import *\n",
    "\n",
    "from Bio import SeqIO\n",
    "from glob import glob\n",
    "from yaspin import yaspin"
   ]
  },
  {
   "attachments": {},
   "cell_type": "markdown",
   "metadata": {},
   "source": [
    "We will start off getting the sequences of the shared records which and storing these as a list of Seq objects..."
   ]
  },
  {
   "cell_type": "code",
   "execution_count": null,
   "metadata": {},
   "outputs": [],
   "source": [
    "try:\n",
    "\tshared_peptides=SeqIO.to_dict(SeqIO.parse('data/shared_peptides.fa',format='fasta'))\n",
    "except FileNotFoundError:\n",
    "\tprint('Please first run the Candida_Mouse_Peptide_Intersections notebook to generate peptide data required for this notebook')\n",
    "\traise\n",
    "shared_peptides=list(map(lambda x: x.seq, shared_peptides.values()))"
   ]
  },
  {
   "attachments": {},
   "cell_type": "markdown",
   "metadata": {},
   "source": [
    "Reload the parsed peptide data..."
   ]
  },
  {
   "cell_type": "code",
   "execution_count": null,
   "metadata": {},
   "outputs": [],
   "source": [
    "try:\n",
    "\twith open('data/pep_data.pkl','rb') as fh:\n",
    "\t\tpep_info=pickle.load(fh)\n",
    "except FileNotFoundError:\n",
    "\tprint('Please first run the Candida_Mouse_Peptide_Intersections notebook to generate peptide data required for this notebook')\n",
    "\traise"
   ]
  },
  {
   "attachments": {},
   "cell_type": "markdown",
   "metadata": {},
   "source": [
    "Parse the fasta description line to extract gene symbols, descriptions etc..."
   ]
  },
  {
   "cell_type": "code",
   "execution_count": null,
   "metadata": {},
   "outputs": [],
   "source": [
    "mouse_prot_info=parse_fasta_desc('data/mouse.fa')\n",
    "candida_prot_info=parse_fasta_desc('data/candida.fa')"
   ]
  },
  {
   "attachments": {},
   "cell_type": "markdown",
   "metadata": {},
   "source": [
    "Now iterate through any .xls files found in the `Spectronaut_results` directory"
   ]
  },
  {
   "cell_type": "code",
   "execution_count": null,
   "metadata": {},
   "outputs": [],
   "source": [
    "os.makedirs('outputs',exist_ok=True)\n",
    "\n",
    "results=glob('Spectronaut_results/*.xls')\n",
    "if len(results)==0:\n",
    "\tprint(\"No results found: Spectronaut result files (.xls) should be uploaded to the \\\n",
    "\t\t'Spectronaut_results' folder before running this cell\")\n",
    "\traise\n",
    "\n",
    "for result in results:\n",
    "\tfile=os.path.basename(result).replace('.xls','')\n",
    "\tdf=pd.read_csv(result, sep=\"\\t\")\n",
    "\n",
    "\twith yaspin(text=f'Processing {file}...'):\n",
    "\t\tconflicts=list()\n",
    "\t\tfor index,peprow in df.iterrows():\n",
    "\t\t\t# peptide sequences appear as i.e.'_C[Carbamidomethyl (C)]QGTFSPEDNSIK_.2' which need \n",
    "\t\t\t# the surrounding '_' and any modification results found within '[]' removing\n",
    "\t\t\t# The clean_peptide function defined within PepOverap.py takes care of this\n",
    "\t\t\tpeptide=clean_peptide(peprow['EG.PrecursorId'])\n",
    "\t\t\t\n",
    "\t\t\t# Store the hit data if the peptide it is on our hit-list...\n",
    "\t\t\tif peptide in shared_peptides:\n",
    "\t\t\t\tpeprow['clean_peptide']=peptide\n",
    "\t\t\t\tconflicts.append(peprow.to_dict())\n",
    "\n",
    "\t\t# Write out the filtered results just containing shared peptides...\n",
    "\t\tconflicts_df=pd.DataFrame(conflicts)\n",
    "\t\tconflicts_df.to_csv(f'spectronaut_results/{file}_pepconflicts.txt',sep=\"\\t\",index=False)\n",
    "\t\tconflicts_df=conflicts_df.drop_duplicates(subset='clean_peptide',keep='first')\n",
    "\t\tprint(f'Results from {file} written to spectronaut_results/{file}_pepconflicts.txt\\n')\n",
    "\n",
    "\t\t# collect additional sequence metadata....\n",
    "\t\tconflict_summary_df=pd.DataFrame(conflicts_df['clean_peptide'])\n",
    "\t\tconflict_summary_df=conflict_summary_df.rename(columns={'clean_peptide':'peptide'})\n",
    "\t\tconflict_summary_df=conflict_summary_df.merge(pep_info.duplicate_df,on='peptide')\n",
    "\n",
    "\t\t# A peptide may have been seen multiple times so for producing a summary group by the peptide sequence, \n",
    "\t\t# so we get one summary result per peptide\n",
    "\t\tgrouped=conflict_summary_df.groupby('peptide')\n",
    "\n",
    "\t\tunique_peptides=list()\n",
    "\t\tmouse_df=pep_info.total_dfs['mouse']\n",
    "\t\tcandida_df=pep_info.total_dfs['candida']\n",
    "\n",
    "\t\tfor name, group in grouped:\n",
    "\t\t\tmouse_prot=group[group['organism']=='mouse']['protein_id'].values[0]\n",
    "\t\t\tcandida_prot=group[group['organism']=='candida']['protein_id'].values[0]\n",
    "\t\t\tmouse_total_peptides=mouse_df[mouse_df['protein_id']==mouse_prot].count()['protein_id']\n",
    "\t\t\tcandida_total_peptides=candida_df[candida_df['protein_id']==candida_prot].count()['protein_id']\n",
    "\t\t\t\n",
    "\t\t\tgroup_vals={\n",
    "\t\t\t\t'peptide': group['peptide'].values[0],\n",
    "\t\t\t\t'mouse_prot': mouse_prot,\n",
    "\t\t\t\t'mouse_gene': mouse_prot_info[mouse_prot_info['prot_id']==mouse_prot]['gene'].values[0],\n",
    "\t\t\t\t'mouse_desc': mouse_prot_info[mouse_prot_info['prot_id']==mouse_prot]['description'].values[0],\n",
    "\t\t\t\t'mouse_total_peptides': mouse_total_peptides,\n",
    "\t\t\t\t'candida_prot': candida_prot,\n",
    "\t\t\t\t'candida_gene': candida_prot_info[candida_prot_info['prot_id']==candida_prot]['gene'].values[0],\n",
    "\t\t\t\t'candida_desc': candida_prot_info[candida_prot_info['prot_id']==candida_prot]['description'].values[0],\n",
    "\t\t\t\t'candida_total_peptides': candida_total_peptides\n",
    "\t\t\t}\n",
    "\n",
    "\t\t\tunique_peptides.append(group_vals)\n",
    "\n",
    "\t\tunique_peptides_df=pd.DataFrame.from_dict(unique_peptides)\n",
    "\t\tunique_peptides_df.to_csv(f'outputs/{file}_summary.txt',sep=\"\\t\",index=False)\n",
    "\t\tprint(f'Peptide summaries from {file} written to outputs/{file}_summary.txt\\n')"
   ]
  }
 ],
 "metadata": {
  "kernelspec": {
   "display_name": "Python [conda env:PepOverlap] *",
   "language": "python",
   "name": "conda-env-PepOverlap-py"
  },
  "language_info": {
   "codemirror_mode": {
    "name": "ipython",
    "version": 3
   },
   "file_extension": ".py",
   "mimetype": "text/x-python",
   "name": "python",
   "nbconvert_exporter": "python",
   "pygments_lexer": "ipython3",
   "version": "3.11.0"
  },
  "orig_nbformat": 4
 },
 "nbformat": 4,
 "nbformat_minor": 2
}
